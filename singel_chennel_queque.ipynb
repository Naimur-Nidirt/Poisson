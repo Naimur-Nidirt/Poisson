{
  "nbformat": 4,
  "nbformat_minor": 0,
  "metadata": {
    "colab": {
      "name": "singel_chennel_queque.ipynb",
      "provenance": [],
      "collapsed_sections": [],
      "include_colab_link": true
    },
    "kernelspec": {
      "name": "python3",
      "display_name": "Python 3"
    },
    "language_info": {
      "name": "python"
    }
  },
  "cells": [
    {
      "cell_type": "markdown",
      "metadata": {
        "id": "view-in-github",
        "colab_type": "text"
      },
      "source": [
        "<a href=\"https://colab.research.google.com/github/Naimur-Nidrit/Poisson/blob/main/singel_chennel_queque.ipynb\" target=\"_parent\"><img src=\"https://colab.research.google.com/assets/colab-badge.svg\" alt=\"Open In Colab\"/></a>"
      ]
    },
    {
      "cell_type": "code",
      "metadata": {
        "colab": {
          "base_uri": "https://localhost:8080/"
        },
        "id": "VcGI-2BvnyLi",
        "outputId": "b53b5b44-be39-4ab3-bd7f-c51edfe8f37f"
      },
      "source": [
        "\n",
        "from scipy.stats import *\n",
        "\n",
        "inter_arrival = poisson.rvs( mu = 5.60,size=20 )\n",
        "inter_arrival[0] = 0\n",
        "\n",
        "\n",
        "\n",
        "arrival_time = [0]\n",
        "for i in range(1,20):\n",
        "  arrival_time.append( inter_arrival[i] + arrival_time[i-1] )\n",
        " \n",
        "\n",
        "import math\n",
        "import numpy as np\n",
        "data_expons =  expon.rvs(size=20,loc=5,scale=1/2)\n",
        "data_test  = data_expons\n",
        "\n",
        "\n",
        "service_time = [np.round(data_expon) for data_expon in data_expons]\n",
        "\n",
        "\n",
        "\n",
        "time_service_begin = [0]\n",
        "customer_wait = [0]\n",
        "idle_time_server = [0]\n",
        "time_service_end = []\n",
        "customer_spend_system = []\n",
        "\n",
        "value1 = (arrival_time[0] + service_time[0] + customer_wait[0])\n",
        "time_service_end = [ value1 ]\n",
        "\n",
        "value2 = (service_time[0] + customer_wait[0])\n",
        "customer_spend_system = [ value2 ]\n",
        "\n",
        "count_customer_wait = 0\n",
        "total_waiting_time = 0\n",
        "\n",
        "for i in range(1,20):\n",
        "  \n",
        "  time_service_begin.append(max(time_service_end[i-1], arrival_time[i]))\n",
        "  \n",
        "  if (arrival_time[i] >= time_service_end[i-1 ]):\n",
        "    customer_wait.append(0)\n",
        "  else:\n",
        "    customer_wait.append( time_service_end[i-1] - arrival_time[i] )\n",
        "    count_customer_wait +=1\n",
        "    total_waiting_time = total_waiting_time + customer_wait[i]\n",
        "  \n",
        "  \n",
        "  time_service_end.append((arrival_time[i] + service_time[i] + customer_wait[i]))\n",
        "  customer_spend_system.append((service_time[i] + customer_wait[i]))\n",
        "\n",
        "\n",
        "  if (arrival_time[i] > time_service_end[i-1 ]):\n",
        "   idle_time_server.append( arrival_time[i] - time_service_end[i-1] ) \n",
        "  else:\n",
        "    idle_time_server.append(0) \n",
        "  \n",
        "  \n",
        "  avg_no_of_customer_wait = (count_customer_wait / 20)\n",
        "  avg_waiting_time = (total_waiting_time / 20)\n",
        "\n",
        "\n",
        "\n",
        "print(\"Customer No.\",\"\\tInter_Arrival_Time\",\"\\tArrival_Time\",\"\\tService_Time\",\"\\tTime_Service_Begin\",\"\\tCustomer_Wait_In_Queue\",\"\\tTime_Service_End\",\"\\tCustomer_Spend_In_System\",\"\\tServer_Idle_Time\")\n",
        "\n",
        "for i in range(20):\n",
        "  print(\"\\t\",i,\"\\t\\t\",inter_arrival[i],\"\\t\\t  \",arrival_time[i],\"\\t\\t  \",service_time[i],\"\\t\\t\",time_service_begin[i],\"\\t\\t\\t\",customer_wait[i],\"\\t\\t\\t\",time_service_end[i],\"\\t\\t\\t\",customer_spend_system[i],\"\\t\\t\\t\\t\",idle_time_server[i])\n",
        "\n",
        "\n",
        "print(\"\\n\\n\\n\")\n",
        "print(\"total_waiting_time =\") \n",
        "print(total_waiting_time)\n",
        "print(\"avg_no_of_customer_wait  =\") \n",
        "print(avg_no_of_customer_wait)\n",
        "print(\"avg_waiting_time = \") \n",
        "print(avg_waiting_time)"
      ],
      "execution_count": 16,
      "outputs": [
        {
          "output_type": "stream",
          "text": [
            "Customer No. \tInter_Arrival_Time \tArrival_Time \tService_Time \tTime_Service_Begin \tCustomer_Wait_In_Queue \tTime_Service_End \tCustomer_Spend_In_System \tServer_Idle_Time\n",
            "\t 0 \t\t 0 \t\t   0 \t\t   6.0 \t\t 0 \t\t\t 0 \t\t\t 6.0 \t\t\t 6.0 \t\t\t\t 0\n",
            "\t 1 \t\t 2 \t\t   2 \t\t   7.0 \t\t 6.0 \t\t\t 4.0 \t\t\t 13.0 \t\t\t 11.0 \t\t\t\t 0\n",
            "\t 2 \t\t 6 \t\t   8 \t\t   6.0 \t\t 13.0 \t\t\t 5.0 \t\t\t 19.0 \t\t\t 11.0 \t\t\t\t 0\n",
            "\t 3 \t\t 4 \t\t   12 \t\t   5.0 \t\t 19.0 \t\t\t 7.0 \t\t\t 24.0 \t\t\t 12.0 \t\t\t\t 0\n",
            "\t 4 \t\t 6 \t\t   18 \t\t   5.0 \t\t 24.0 \t\t\t 6.0 \t\t\t 29.0 \t\t\t 11.0 \t\t\t\t 0\n",
            "\t 5 \t\t 7 \t\t   25 \t\t   5.0 \t\t 29.0 \t\t\t 4.0 \t\t\t 34.0 \t\t\t 9.0 \t\t\t\t 0\n",
            "\t 6 \t\t 2 \t\t   27 \t\t   5.0 \t\t 34.0 \t\t\t 7.0 \t\t\t 39.0 \t\t\t 12.0 \t\t\t\t 0\n",
            "\t 7 \t\t 6 \t\t   33 \t\t   6.0 \t\t 39.0 \t\t\t 6.0 \t\t\t 45.0 \t\t\t 12.0 \t\t\t\t 0\n",
            "\t 8 \t\t 5 \t\t   38 \t\t   5.0 \t\t 45.0 \t\t\t 7.0 \t\t\t 50.0 \t\t\t 12.0 \t\t\t\t 0\n",
            "\t 9 \t\t 3 \t\t   41 \t\t   5.0 \t\t 50.0 \t\t\t 9.0 \t\t\t 55.0 \t\t\t 14.0 \t\t\t\t 0\n",
            "\t 10 \t\t 3 \t\t   44 \t\t   5.0 \t\t 55.0 \t\t\t 11.0 \t\t\t 60.0 \t\t\t 16.0 \t\t\t\t 0\n",
            "\t 11 \t\t 6 \t\t   50 \t\t   5.0 \t\t 60.0 \t\t\t 10.0 \t\t\t 65.0 \t\t\t 15.0 \t\t\t\t 0\n",
            "\t 12 \t\t 6 \t\t   56 \t\t   6.0 \t\t 65.0 \t\t\t 9.0 \t\t\t 71.0 \t\t\t 15.0 \t\t\t\t 0\n",
            "\t 13 \t\t 8 \t\t   64 \t\t   5.0 \t\t 71.0 \t\t\t 7.0 \t\t\t 76.0 \t\t\t 12.0 \t\t\t\t 0\n",
            "\t 14 \t\t 4 \t\t   68 \t\t   5.0 \t\t 76.0 \t\t\t 8.0 \t\t\t 81.0 \t\t\t 13.0 \t\t\t\t 0\n",
            "\t 15 \t\t 2 \t\t   70 \t\t   5.0 \t\t 81.0 \t\t\t 11.0 \t\t\t 86.0 \t\t\t 16.0 \t\t\t\t 0\n",
            "\t 16 \t\t 6 \t\t   76 \t\t   5.0 \t\t 86.0 \t\t\t 10.0 \t\t\t 91.0 \t\t\t 15.0 \t\t\t\t 0\n",
            "\t 17 \t\t 3 \t\t   79 \t\t   5.0 \t\t 91.0 \t\t\t 12.0 \t\t\t 96.0 \t\t\t 17.0 \t\t\t\t 0\n",
            "\t 18 \t\t 8 \t\t   87 \t\t   5.0 \t\t 96.0 \t\t\t 9.0 \t\t\t 101.0 \t\t\t 14.0 \t\t\t\t 0\n",
            "\t 19 \t\t 4 \t\t   91 \t\t   5.0 \t\t 101.0 \t\t\t 10.0 \t\t\t 106.0 \t\t\t 15.0 \t\t\t\t 0\n",
            "\n",
            "\n",
            "\n",
            "\n",
            "total_waiting_time =\n",
            "152.0\n",
            "avg_no_of_customer_wait  =\n",
            "0.95\n",
            "avg_waiting_time = \n",
            "7.6\n"
          ],
          "name": "stdout"
        }
      ]
    },
    {
      "cell_type": "code",
      "metadata": {
        "id": "tzQybLHcu0CF"
      },
      "source": [
        ""
      ],
      "execution_count": null,
      "outputs": []
    }
  ]
}